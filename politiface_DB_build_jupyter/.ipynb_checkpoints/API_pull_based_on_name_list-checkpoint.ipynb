{
 "cells": [
  {
   "cell_type": "code",
   "execution_count": 2,
   "metadata": {},
   "outputs": [],
   "source": [
    "import pandas as pd\n",
    "import numpy as np\n",
    "import requests\n",
    "from crpapi import CRP\n",
    "\n",
    "pd.options.display.max_rows = 600"
   ]
  },
  {
   "cell_type": "code",
   "execution_count": 3,
   "metadata": {},
   "outputs": [],
   "source": [
    "members_congress = pd.read_csv('members_congress.csv')\n",
    "id_zero =  members_congress[\"CID\"][0]\n",
    "ids_1 = members_congress[\"CID\"][1:200]\n",
    "ids_2 = members_congress[\"CID\"][200:400]\n",
    "ids_3 = members_congress[\"CID\"][400:]"
   ]
  },
  {
   "cell_type": "code",
   "execution_count": 34,
   "metadata": {},
   "outputs": [],
   "source": [
    "#members_congress[members_congress[\"CRPName\"].isin(['McConnell, Mitch','Pelosi, Nancy'])== True]"
   ]
  },
  {
   "cell_type": "code",
   "execution_count": 6,
   "metadata": {},
   "outputs": [],
   "source": [
    "#1 max@    4b56244b64d9d05a6075b6ae99fad0c3\n",
    "#2 max.hw  be32676991180be3bca4e506848f2b36\n",
    "#3 mhw340  539bdcd044ad7659118c3bd609eb27e8"
   ]
  },
  {
   "cell_type": "code",
   "execution_count": 7,
   "metadata": {},
   "outputs": [],
   "source": [
    "crp1 = CRP(\"4b56244b64d9d05a6075b6ae99fad0c3\")\n",
    "crp2 = CRP(\"be32676991180be3bca4e506848f2b36\")\n",
    "crp3 = CRP(\"539bdcd044ad7659118c3bd609eb27e8\")"
   ]
  },
  {
   "cell_type": "code",
   "execution_count": 41,
   "metadata": {},
   "outputs": [],
   "source": [
    "def get_contribs(API_key, cand_id):\n",
    "    chunky_list = API_key.candidates.contrib(cand_id,2020)\n",
    "    out_list = []\n",
    "    for i in chunky_list:\n",
    "        out_list.append(i['@attributes'])\n",
    "    out_df = pd.DataFrame.from_records([out_list[0]])\n",
    "    try:\n",
    "        for i in range(1,10):\n",
    "            temp_df = pd.DataFrame.from_records([out_list[i]])\n",
    "            out_df = out_df.append(temp_df)\n",
    "    except IndexError:\n",
    "        out_df.insert(0, \"CID\", cand_id)\n",
    "        out_df.reset_index(drop=True, inplace=True)\n",
    "        return out_df\n",
    "    out_df.insert(0, \"CID\", cand_id)\n",
    "    out_df.reset_index(drop=True, inplace=True)\n",
    "    return out_df"
   ]
  },
  {
   "cell_type": "code",
   "execution_count": 42,
   "metadata": {
    "scrolled": true
   },
   "outputs": [
    {
     "data": {
      "text/html": [
       "<div>\n",
       "<style scoped>\n",
       "    .dataframe tbody tr th:only-of-type {\n",
       "        vertical-align: middle;\n",
       "    }\n",
       "\n",
       "    .dataframe tbody tr th {\n",
       "        vertical-align: top;\n",
       "    }\n",
       "\n",
       "    .dataframe thead th {\n",
       "        text-align: right;\n",
       "    }\n",
       "</style>\n",
       "<table border=\"1\" class=\"dataframe\">\n",
       "  <thead>\n",
       "    <tr style=\"text-align: right;\">\n",
       "      <th></th>\n",
       "      <th>org_name</th>\n",
       "      <th>total</th>\n",
       "      <th>pacs</th>\n",
       "      <th>indivs</th>\n",
       "    </tr>\n",
       "  </thead>\n",
       "  <tbody>\n",
       "    <tr>\n",
       "      <th>0</th>\n",
       "      <td>Caddick Utilities LLC</td>\n",
       "      <td>0</td>\n",
       "      <td>0</td>\n",
       "      <td>0</td>\n",
       "    </tr>\n",
       "    <tr>\n",
       "      <th>0</th>\n",
       "      <td>Date Mining Services</td>\n",
       "      <td>0</td>\n",
       "      <td>0</td>\n",
       "      <td>0</td>\n",
       "    </tr>\n",
       "    <tr>\n",
       "      <th>0</th>\n",
       "      <td>Krapf Group</td>\n",
       "      <td>0</td>\n",
       "      <td>0</td>\n",
       "      <td>0</td>\n",
       "    </tr>\n",
       "    <tr>\n",
       "      <th>0</th>\n",
       "      <td>Kreider Farms</td>\n",
       "      <td>0</td>\n",
       "      <td>0</td>\n",
       "      <td>0</td>\n",
       "    </tr>\n",
       "    <tr>\n",
       "      <th>0</th>\n",
       "      <td>Lamb McErlane PC</td>\n",
       "      <td>0</td>\n",
       "      <td>0</td>\n",
       "      <td>0</td>\n",
       "    </tr>\n",
       "    <tr>\n",
       "      <th>0</th>\n",
       "      <td>Meuser for Congress</td>\n",
       "      <td>0</td>\n",
       "      <td>0</td>\n",
       "      <td>0</td>\n",
       "    </tr>\n",
       "    <tr>\n",
       "      <th>0</th>\n",
       "      <td>Reading Blue Mountain &amp; Northern RR</td>\n",
       "      <td>0</td>\n",
       "      <td>0</td>\n",
       "      <td>0</td>\n",
       "    </tr>\n",
       "    <tr>\n",
       "      <th>0</th>\n",
       "      <td>Rinaldi &amp; Rinaldi</td>\n",
       "      <td>0</td>\n",
       "      <td>0</td>\n",
       "      <td>0</td>\n",
       "    </tr>\n",
       "    <tr>\n",
       "      <th>0</th>\n",
       "      <td>Wenger Group</td>\n",
       "      <td>0</td>\n",
       "      <td>0</td>\n",
       "      <td>0</td>\n",
       "    </tr>\n",
       "  </tbody>\n",
       "</table>\n",
       "</div>"
      ],
      "text/plain": [
       "                              org_name total pacs indivs\n",
       "0                Caddick Utilities LLC     0    0      0\n",
       "0                 Date Mining Services     0    0      0\n",
       "0                          Krapf Group     0    0      0\n",
       "0                        Kreider Farms     0    0      0\n",
       "0                     Lamb McErlane PC     0    0      0\n",
       "0                  Meuser for Congress     0    0      0\n",
       "0  Reading Blue Mountain & Northern RR     0    0      0\n",
       "0                    Rinaldi & Rinaldi     0    0      0\n",
       "0                         Wenger Group     0    0      0"
      ]
     },
     "execution_count": 42,
     "metadata": {},
     "output_type": "execute_result"
    }
   ],
   "source": [
    "get_contribs(crp1, 'N00025495')"
   ]
  },
  {
   "cell_type": "code",
   "execution_count": null,
   "metadata": {},
   "outputs": [],
   "source": [
    "# next up, just iterate through all members and add their get_contrib resuls to one big df"
   ]
  },
  {
   "cell_type": "markdown",
   "metadata": {},
   "source": [
    "\n",
    "\n"
   ]
  },
  {
   "cell_type": "code",
   "execution_count": 164,
   "metadata": {},
   "outputs": [],
   "source": [
    "# summary stuff\n",
    "\n",
    "def get_summary(API_key, cand_id):\n",
    "    cand_sum = API_key.fetch('candSummary', cid=cand_id)['summary']['@attributes']\n",
    "    out_df = pd.DataFrame.from_records([cand_sum])\n",
    "    return out_df"
   ]
  },
  {
   "cell_type": "code",
   "execution_count": 35,
   "metadata": {},
   "outputs": [],
   "source": [
    "#get_summary(crp3, \"N00007360\").append(get_summary(crp3, \"N00007360\")).append(get_summary(crp3, \"N00007360\")).append(get_summary(crp3, \"N00007360\"))"
   ]
  },
  {
   "cell_type": "code",
   "execution_count": 110,
   "metadata": {
    "scrolled": true
   },
   "outputs": [],
   "source": [
    "pelosi_df = pd.DataFrame.from_records([pelosi_contribs[0]])"
   ]
  },
  {
   "cell_type": "code",
   "execution_count": 30,
   "metadata": {},
   "outputs": [],
   "source": [
    "# create first persons ten\n",
    "master_df = get_contribs(crp3, id_zero)"
   ]
  },
  {
   "cell_type": "code",
   "execution_count": 18,
   "metadata": {},
   "outputs": [
    {
     "ename": "IndexError",
     "evalue": "list index out of range",
     "output_type": "error",
     "traceback": [
      "\u001b[0;31m---------------------------------------------------------------------------\u001b[0m",
      "\u001b[0;31mIndexError\u001b[0m                                Traceback (most recent call last)",
      "\u001b[0;32m<ipython-input-18-26b70bc7ace2>\u001b[0m in \u001b[0;36m<module>\u001b[0;34m\u001b[0m\n\u001b[1;32m      1\u001b[0m \u001b[0;32mfor\u001b[0m \u001b[0mi\u001b[0m \u001b[0;32min\u001b[0m \u001b[0mids_1\u001b[0m\u001b[0;34m:\u001b[0m\u001b[0;34m\u001b[0m\u001b[0;34m\u001b[0m\u001b[0m\n\u001b[0;32m----> 2\u001b[0;31m     \u001b[0mmaster_df\u001b[0m \u001b[0;34m=\u001b[0m \u001b[0mmaster_df\u001b[0m\u001b[0;34m.\u001b[0m\u001b[0mappend\u001b[0m\u001b[0;34m(\u001b[0m\u001b[0mget_contribs\u001b[0m\u001b[0;34m(\u001b[0m\u001b[0mcrp1\u001b[0m\u001b[0;34m,\u001b[0m \u001b[0mi\u001b[0m\u001b[0;34m)\u001b[0m\u001b[0;34m)\u001b[0m\u001b[0;34m\u001b[0m\u001b[0;34m\u001b[0m\u001b[0m\n\u001b[0m",
      "\u001b[0;32m<ipython-input-8-6f544b274987>\u001b[0m in \u001b[0;36mget_contribs\u001b[0;34m(API_key, cand_id)\u001b[0m\n\u001b[1;32m      6\u001b[0m     \u001b[0mout_df\u001b[0m \u001b[0;34m=\u001b[0m \u001b[0mpd\u001b[0m\u001b[0;34m.\u001b[0m\u001b[0mDataFrame\u001b[0m\u001b[0;34m.\u001b[0m\u001b[0mfrom_records\u001b[0m\u001b[0;34m(\u001b[0m\u001b[0;34m[\u001b[0m\u001b[0mout_list\u001b[0m\u001b[0;34m[\u001b[0m\u001b[0;36m0\u001b[0m\u001b[0;34m]\u001b[0m\u001b[0;34m]\u001b[0m\u001b[0;34m)\u001b[0m\u001b[0;34m\u001b[0m\u001b[0;34m\u001b[0m\u001b[0m\n\u001b[1;32m      7\u001b[0m     \u001b[0;32mfor\u001b[0m \u001b[0mi\u001b[0m \u001b[0;32min\u001b[0m \u001b[0mrange\u001b[0m\u001b[0;34m(\u001b[0m\u001b[0;36m1\u001b[0m\u001b[0;34m,\u001b[0m\u001b[0;36m10\u001b[0m\u001b[0;34m)\u001b[0m\u001b[0;34m:\u001b[0m\u001b[0;34m\u001b[0m\u001b[0;34m\u001b[0m\u001b[0m\n\u001b[0;32m----> 8\u001b[0;31m         \u001b[0mtemp_df\u001b[0m \u001b[0;34m=\u001b[0m \u001b[0mpd\u001b[0m\u001b[0;34m.\u001b[0m\u001b[0mDataFrame\u001b[0m\u001b[0;34m.\u001b[0m\u001b[0mfrom_records\u001b[0m\u001b[0;34m(\u001b[0m\u001b[0;34m[\u001b[0m\u001b[0mout_list\u001b[0m\u001b[0;34m[\u001b[0m\u001b[0mi\u001b[0m\u001b[0;34m]\u001b[0m\u001b[0;34m]\u001b[0m\u001b[0;34m)\u001b[0m\u001b[0;34m\u001b[0m\u001b[0;34m\u001b[0m\u001b[0m\n\u001b[0m\u001b[1;32m      9\u001b[0m         \u001b[0mout_df\u001b[0m \u001b[0;34m=\u001b[0m \u001b[0mout_df\u001b[0m\u001b[0;34m.\u001b[0m\u001b[0mappend\u001b[0m\u001b[0;34m(\u001b[0m\u001b[0mtemp_df\u001b[0m\u001b[0;34m)\u001b[0m\u001b[0;34m\u001b[0m\u001b[0;34m\u001b[0m\u001b[0m\n\u001b[1;32m     10\u001b[0m     \u001b[0mout_df\u001b[0m\u001b[0;34m.\u001b[0m\u001b[0minsert\u001b[0m\u001b[0;34m(\u001b[0m\u001b[0;36m0\u001b[0m\u001b[0;34m,\u001b[0m \u001b[0;34m\"CID\"\u001b[0m\u001b[0;34m,\u001b[0m \u001b[0mcand_id\u001b[0m\u001b[0;34m)\u001b[0m\u001b[0;34m\u001b[0m\u001b[0;34m\u001b[0m\u001b[0m\n",
      "\u001b[0;31mIndexError\u001b[0m: list index out of range"
     ]
    }
   ],
   "source": [
    "for i in ids_1:\n",
    "    master_df = master_df.append(get_contribs(crp1, i))"
   ]
  },
  {
   "cell_type": "code",
   "execution_count": 38,
   "metadata": {},
   "outputs": [
    {
     "data": {
      "text/plain": [
       "[{'@attributes': {'org_name': 'Caddick Utilities LLC',\n",
       "   'total': '0',\n",
       "   'pacs': '0',\n",
       "   'indivs': '0'}},\n",
       " {'@attributes': {'org_name': 'Date Mining Services',\n",
       "   'total': '0',\n",
       "   'pacs': '0',\n",
       "   'indivs': '0'}},\n",
       " {'@attributes': {'org_name': 'Krapf Group',\n",
       "   'total': '0',\n",
       "   'pacs': '0',\n",
       "   'indivs': '0'}},\n",
       " {'@attributes': {'org_name': 'Kreider Farms',\n",
       "   'total': '0',\n",
       "   'pacs': '0',\n",
       "   'indivs': '0'}},\n",
       " {'@attributes': {'org_name': 'Lamb McErlane PC',\n",
       "   'total': '0',\n",
       "   'pacs': '0',\n",
       "   'indivs': '0'}},\n",
       " {'@attributes': {'org_name': 'Meuser for Congress',\n",
       "   'total': '0',\n",
       "   'pacs': '0',\n",
       "   'indivs': '0'}},\n",
       " {'@attributes': {'org_name': 'Reading Blue Mountain & Northern RR',\n",
       "   'total': '0',\n",
       "   'pacs': '0',\n",
       "   'indivs': '0'}},\n",
       " {'@attributes': {'org_name': 'Rinaldi & Rinaldi',\n",
       "   'total': '0',\n",
       "   'pacs': '0',\n",
       "   'indivs': '0'}},\n",
       " {'@attributes': {'org_name': 'Wenger Group',\n",
       "   'total': '0',\n",
       "   'pacs': '0',\n",
       "   'indivs': '0'}}]"
      ]
     },
     "execution_count": 38,
     "metadata": {},
     "output_type": "execute_result"
    }
   ],
   "source": [
    "crp3.candidates.contrib(\"N00025495\",2020)"
   ]
  },
  {
   "cell_type": "code",
   "execution_count": 25,
   "metadata": {},
   "outputs": [
    {
     "data": {
      "text/html": [
       "<div>\n",
       "<style scoped>\n",
       "    .dataframe tbody tr th:only-of-type {\n",
       "        vertical-align: middle;\n",
       "    }\n",
       "\n",
       "    .dataframe tbody tr th {\n",
       "        vertical-align: top;\n",
       "    }\n",
       "\n",
       "    .dataframe thead th {\n",
       "        text-align: right;\n",
       "    }\n",
       "</style>\n",
       "<table border=\"1\" class=\"dataframe\">\n",
       "  <thead>\n",
       "    <tr style=\"text-align: right;\">\n",
       "      <th></th>\n",
       "      <th>CID</th>\n",
       "      <th>CRPName</th>\n",
       "      <th>Party</th>\n",
       "      <th>Office</th>\n",
       "      <th>FECCandID</th>\n",
       "    </tr>\n",
       "  </thead>\n",
       "  <tbody>\n",
       "    <tr>\n",
       "      <th>14</th>\n",
       "      <td>N00025495</td>\n",
       "      <td>Barletta, Lou</td>\n",
       "      <td>R</td>\n",
       "      <td>PA11</td>\n",
       "      <td>S8PA00320</td>\n",
       "    </tr>\n",
       "  </tbody>\n",
       "</table>\n",
       "</div>"
      ],
      "text/plain": [
       "          CID        CRPName Party Office  FECCandID\n",
       "14  N00025495  Barletta, Lou     R   PA11  S8PA00320"
      ]
     },
     "execution_count": 25,
     "metadata": {},
     "output_type": "execute_result"
    }
   ],
   "source": [
    "members_congress[members_congress[\"CID\"].isin(['N00025495'])== True]"
   ]
  }
 ],
 "metadata": {
  "kernelspec": {
   "display_name": "Python 3",
   "language": "python",
   "name": "python3"
  }
 },
 "nbformat": 4,
 "nbformat_minor": 4
}
